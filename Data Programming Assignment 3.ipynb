{
 "cells": [
  {
   "cell_type": "code",
   "execution_count": 10,
   "metadata": {},
   "outputs": [
    {
     "name": "stdout",
     "output_type": "stream",
     "text": [
      "Enter a number: 4\n",
      "Enter a number: 5\n",
      "Enter a number: bad data\n",
      "Invailed input\n",
      "Enter a number: 7\n",
      "Enter a number: done\n",
      "16 3 5.333333333333333\n"
     ]
    }
   ],
   "source": [
    "#Chaper 5, exercise 1:\n",
    "count = 0\n",
    "total = 0\n",
    "while True:\n",
    "    number = input(\"Enter a number: \")\n",
    "    if number == 'done': break\n",
    "    try:\n",
    "        number1 = int(number)\n",
    "    except:\n",
    "        print('Invailed input')\n",
    "        continue\n",
    "    count = count + 1\n",
    "    total = total + number1\n",
    "print (total,count,total/count)"
   ]
  },
  {
   "cell_type": "code",
   "execution_count": 11,
   "metadata": {},
   "outputs": [
    {
     "name": "stdout",
     "output_type": "stream",
     "text": [
      "Enter a number: 4\n",
      "Enter a number: 5\n",
      "Enter a number: bad data\n",
      "Invailed input\n",
      "Enter a number: 7 \n",
      "Enter a number: done\n",
      "Largest: 7\n",
      "Smallest: 4\n"
     ]
    }
   ],
   "source": [
    "#Chaper 5, exercise 2:\n",
    "count = 0\n",
    "total = 0\n",
    "largest = None\n",
    "smallest = None\n",
    "while True:\n",
    "    number = input(\"Enter a number: \")\n",
    "    if number == 'done': break\n",
    "    try:\n",
    "        number1 = int(number)\n",
    "    except:\n",
    "        print('Invailed input')\n",
    "        continue\n",
    "    itervar = int(number)\n",
    "    if largest is None or itervar > largest :\n",
    "            largest = itervar\n",
    "    if smallest is None or itervar < smallest:\n",
    "        smallest = itervar\n",
    "print ('Largest:', largest)\n",
    "print ('Smallest:', smallest)"
   ]
  },
  {
   "cell_type": "code",
   "execution_count": 8,
   "metadata": {},
   "outputs": [
    {
     "name": "stdout",
     "output_type": "stream",
     "text": [
      "0.8475\n"
     ]
    }
   ],
   "source": [
    "#Chaper 6, exercise 5:\n",
    "ABC = 'X-DSPAM-Confidence:0.8475'\n",
    "colon = ABC.find(\":\")\n",
    "string1 = ABC[colon+1::]\n",
    "string1_float = float(string1)\n",
    "print(string1_float)"
   ]
  },
  {
   "cell_type": "code",
   "execution_count": 12,
   "metadata": {},
   "outputs": [
    {
     "name": "stdout",
     "output_type": "stream",
     "text": [
      "Enter file name: mbox.txt\n",
      "Average spam confidence: 0.8941280467445736\n"
     ]
    }
   ],
   "source": [
    "#Chaper 7, exercise 2:\n",
    "file = input(\"Enter file name: \")\n",
    "if len(file) == 0:\n",
    "    file = 'mbox.txt'\n",
    "fhand = open('C:\\\\Users\\\\Admin\\\\Desktop\\\\mbox.txt')\n",
    "count = 0\n",
    "total = 0\n",
    "for line in fhand:\n",
    "    if not line.startswith(\"X-DSPAM-Confidence:\"): continue\n",
    "    count = count + 1\n",
    "    colon = line.find(\":\")\n",
    "    number = float(line[colon+1:])\n",
    "    total = number + total\n",
    "average = total / count\n",
    "print (\"Average spam confidence:\", average)"
   ]
  },
  {
   "cell_type": "code",
   "execution_count": 13,
   "metadata": {},
   "outputs": [
    {
     "name": "stdout",
     "output_type": "stream",
     "text": [
      "Enter file: romeo.txt\n",
      "['Arise', 'But', 'It', 'Juliet', 'Who', 'already', 'and', 'breaks', 'east', 'envious', 'fair', 'grief', 'is', 'kill', 'light', 'moon', 'pale', 'sick', 'soft', 'sun', 'the', 'through', 'what', 'window', 'with', 'yonder']\n"
     ]
    }
   ],
   "source": [
    "#Chaper 8, exercise 4:\n",
    "file = input(\"Enter file: \")\n",
    "fhand = open('C:\\\\Users\\\\Admin\\\\Desktop\\\\romeo.txt')\n",
    "lst = list()                       \n",
    "for line in fhand:                    \n",
    "    word = line.rstrip().split()   \n",
    "    for element in word:           \n",
    "        if element in lst: continue              \n",
    "        else :                     \n",
    "            lst.append(element)    \n",
    "lst.sort()                         \n",
    "print(lst)  "
   ]
  },
  {
   "cell_type": "code",
   "execution_count": 14,
   "metadata": {},
   "outputs": [
    {
     "name": "stdout",
     "output_type": "stream",
     "text": [
      "python fromcount.py\n",
      "Enter file name: mbox-short.txt\n",
      "stephen.marquard@uct.ac.za\n",
      "louis@media.berkeley.edu\n",
      "zqian@umich.edu\n",
      "rjlowe@iupui.edu\n",
      "zqian@umich.edu\n",
      "rjlowe@iupui.edu\n",
      "cwen@iupui.edu\n",
      "cwen@iupui.edu\n",
      "gsilver@umich.edu\n",
      "gsilver@umich.edu\n",
      "zqian@umich.edu\n",
      "gsilver@umich.edu\n",
      "wagnermr@iupui.edu\n",
      "zqian@umich.edu\n",
      "antranig@caret.cam.ac.uk\n",
      "gopal.ramasammycook@gmail.com\n",
      "david.horwitz@uct.ac.za\n",
      "david.horwitz@uct.ac.za\n",
      "david.horwitz@uct.ac.za\n",
      "david.horwitz@uct.ac.za\n",
      "stephen.marquard@uct.ac.za\n",
      "louis@media.berkeley.edu\n",
      "louis@media.berkeley.edu\n",
      "ray@media.berkeley.edu\n",
      "cwen@iupui.edu\n",
      "cwen@iupui.edu\n",
      "cwen@iupui.edu\n",
      "There were 27 lines in the file with From as the first word\n"
     ]
    }
   ],
   "source": [
    "#Chaper 8, exercise 5:\n",
    "print('python fromcount.py')\n",
    "file = input(\"Enter file name: \")\n",
    "count = 0\n",
    "fhand = open('C:\\\\Users\\\\Admin\\\\Desktop\\\\mbox-short.txt')\n",
    "for line in fhand :\n",
    "    line = line.rstrip()\n",
    "    if not line.startswith('From '): continue        \n",
    "    words = line.split()\n",
    "    print(words[1])\n",
    "    count = count + 1\n",
    "print (\"There were\", count, \"lines in the file with From as the first word\")"
   ]
  },
  {
   "cell_type": "code",
   "execution_count": null,
   "metadata": {},
   "outputs": [],
   "source": [
    "#Chaper 9, exercise 4:\n"
   ]
  }
 ],
 "metadata": {
  "kernelspec": {
   "display_name": "Python 3",
   "language": "python",
   "name": "python3"
  },
  "language_info": {
   "codemirror_mode": {
    "name": "ipython",
    "version": 3
   },
   "file_extension": ".py",
   "mimetype": "text/x-python",
   "name": "python",
   "nbconvert_exporter": "python",
   "pygments_lexer": "ipython3",
   "version": "3.7.0"
  }
 },
 "nbformat": 4,
 "nbformat_minor": 2
}
